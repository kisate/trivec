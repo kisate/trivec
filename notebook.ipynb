{
 "metadata": {
  "language_info": {
   "codemirror_mode": {
    "name": "ipython",
    "version": 3
   },
   "file_extension": ".py",
   "mimetype": "text/x-python",
   "name": "python",
   "nbconvert_exporter": "python",
   "pygments_lexer": "ipython3",
   "version": "3.9.2"
  },
  "orig_nbformat": 2,
  "kernelspec": {
   "name": "python392jvsc74a57bd0767d51c1340bd893661ea55ea3124f6de3c7a262a8b4abca0554b478b1e2ff90",
   "display_name": "Python 3.9.2 64-bit"
  }
 },
 "nbformat": 4,
 "nbformat_minor": 2,
 "cells": [
  {
   "source": [
    "Загрузим данные"
   ],
   "cell_type": "markdown",
   "metadata": {}
  },
  {
   "cell_type": "code",
   "execution_count": 21,
   "metadata": {},
   "outputs": [],
   "source": [
    "import pandas as pd\n",
    "import random\n",
    "import pickle\n",
    "import torch\n",
    "random.seed(123123)"
   ]
  },
  {
   "cell_type": "code",
   "execution_count": 22,
   "metadata": {},
   "outputs": [],
   "source": [
    "df_test = pd.read_csv(\"data/polyphar_test.csv\")\n",
    "df_train = pd.read_csv(\"data/polyphar_train.csv\")\n",
    "df_val = pd.read_csv(\"data/polyphar_validate.csv\")"
   ]
  },
  {
   "cell_type": "code",
   "execution_count": 23,
   "metadata": {},
   "outputs": [
    {
     "output_type": "stream",
     "name": "stdout",
     "text": [
      "   from  rel   to\n0   624  442  350\n1   144  442  118\n2   478  442   70\n3    93  442  441\n4   238  442  266\n   from  rel   to\n0   451  442  234\n1   512  442  157\n2   570  442  350\n3   375  442  299\n4   417  442  299\n   from  rel   to\n0   243  442  441\n1   238  442  526\n2   451  442  299\n3   230  442  526\n4   297  442  622\n457196\n3661895\n457196\n"
     ]
    }
   ],
   "source": [
    "print(df_test.head())\n",
    "print(df_val.head())\n",
    "print(pd_train.head())\n",
    "\n",
    "print(len(df_test))\n",
    "print(len(df_train))\n",
    "print(len(df_val))"
   ]
  },
  {
   "source": [
    "Посмотим, где что есть."
   ],
   "cell_type": "markdown",
   "metadata": {}
  },
  {
   "cell_type": "code",
   "execution_count": 24,
   "metadata": {},
   "outputs": [],
   "source": [
    "train_drugs = set(df_train[\"from\"]).union(set(pd_train[\"to\"]))\n",
    "test_drugs = set(pd_test[\"from\"]).union(set(df_test[\"to\"]))\n",
    "val_drugs = set(df_val[\"from\"]).union(set(df_val[\"to\"]))\n",
    "test_and_val_drugs = test_drugs.union(val_drugs)"
   ]
  },
  {
   "cell_type": "code",
   "execution_count": 25,
   "metadata": {},
   "outputs": [
    {
     "output_type": "stream",
     "name": "stdout",
     "text": [
      "645\n645\n645\n645\n644\n"
     ]
    }
   ],
   "source": [
    "print(len(train_drugs.intersection(test_and_val_drugs)))\n",
    "print(len(train_drugs))\n",
    "print(len(test_and_val_drugs))\n",
    "print(len(val_drugs))\n",
    "print(len(test_drugs))"
   ]
  },
  {
   "cell_type": "code",
   "execution_count": 26,
   "metadata": {},
   "outputs": [
    {
     "output_type": "stream",
     "name": "stdout",
     "text": [
      "616\n634\n"
     ]
    }
   ],
   "source": [
    "train_from = set(df_train[\"from\"])\n",
    "train_to = set(df_train[\"to\"])\n",
    "\n",
    "print(len(train_from))\n",
    "print(len(train_to))"
   ]
  },
  {
   "source": [
    "Выберем случайно (seed уже зафиксирован) 50 лекарств, которые уберем из train целиком. И по 20, для которых оставим только односторонние связи. Сохраним все."
   ],
   "cell_type": "markdown",
   "metadata": {}
  },
  {
   "cell_type": "code",
   "execution_count": 35,
   "metadata": {},
   "outputs": [
    {
     "output_type": "stream",
     "name": "stderr",
     "text": [
      "<ipython-input-35-ea7e9a8a678e>:1: DeprecationWarning: Sampling from a set deprecated\nsince Python 3.9 and will be removed in a subsequent version.\n  group_all = random.sample(train_drugs, 50)\n<ipython-input-35-ea7e9a8a678e>:2: DeprecationWarning: Sampling from a set deprecated\nsince Python 3.9 and will be removed in a subsequent version.\n  group_from = random.sample(train_from.difference(group_all), 20)\n<ipython-input-35-ea7e9a8a678e>:3: DeprecationWarning: Sampling from a set deprecated\nsince Python 3.9 and will be removed in a subsequent version.\n  group_to = random.sample(train_to.difference(group_all).difference(group_from), 20)\n"
     ]
    }
   ],
   "source": [
    "group_all = random.sample(train_drugs, 50)\n",
    "group_from = random.sample(train_from.difference(group_all), 20)\n",
    "group_to = random.sample(train_to.difference(group_all).difference(group_from), 20)\n",
    "\n",
    "with open(\"data/removed_drugs\", \"wb\") as f:\n",
    "    pickle.dump((group_all, group_from, group_to), f)\n",
    "\n",
    "df_train = df_train[~df_train[\"from\"].isin(group_all)]\n",
    "df_train = df_train[~df_train[\"to\"].isin(group_all)]\n",
    "df_train = df_train[~df_train[\"from\"].isin(group_from)]\n",
    "df_train = df_train[~df_train[\"to\"].isin(group_to)]\n",
    "\n",
    "df_train.to_csv(\"data/polyphar_train_modified.csv\",index=False)\n"
   ]
  },
  {
   "source": [
    "Обучим на 8 эпохах и сравним метрики, полученные во время обучения.\n",
    "\n",
    "test:\n",
    "\n",
    "|          | test_all_auc_roc | test_all_auprc | test_all_ap50 |\n",
    "|----------|------------------|----------------|---------------|\n",
    "| Clean    | 0.967            | 0.94           | 0.977         |\n",
    "| Modified | 0.67             | 0.74           | 0.93          |\n",
    "\n",
    "Графики с neptune на train сильно не отличаются, итоговые значения val практически такие же, как и у test, а во время обучения они почти не менялись."
   ],
   "cell_type": "markdown",
   "metadata": {}
  }
 ]
}